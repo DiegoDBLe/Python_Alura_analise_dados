{
 "cells": [
  {
   "cell_type": "markdown",
   "id": "93c1736b",
   "metadata": {},
   "source": [
    "### Criando uma função:"
   ]
  },
  {
   "cell_type": "code",
   "execution_count": 31,
   "id": "dca0f042",
   "metadata": {},
   "outputs": [],
   "source": [
    "def saudacao():\n",
    "    nome = input('Digite seu nome: ')\n",
    "    print(f'Seja muito Bem Vindo Sr(a).{nome} ')"
   ]
  },
  {
   "cell_type": "code",
   "execution_count": 32,
   "id": "029aa8a1",
   "metadata": {},
   "outputs": [
    {
     "name": "stdout",
     "output_type": "stream",
     "text": [
      "Digite seu nome: diego\n",
      "Seja muito Bem Vindo Sr(a).diego \n"
     ]
    }
   ],
   "source": [
    "saudacao()"
   ]
  },
  {
   "cell_type": "markdown",
   "id": "3104b4cd",
   "metadata": {},
   "source": [
    "### Função com Parâmetros:"
   ]
  },
  {
   "cell_type": "code",
   "execution_count": 33,
   "id": "8d9739bf",
   "metadata": {},
   "outputs": [],
   "source": [
    "nome = 'Diego'\n",
    "def saudacao_com_parametros(nome_pessoa):\n",
    "    print(f'Bem Vindo Sr(a) {nome_pessoa}')"
   ]
  },
  {
   "cell_type": "code",
   "execution_count": 34,
   "id": "50d43efd",
   "metadata": {},
   "outputs": [
    {
     "name": "stdout",
     "output_type": "stream",
     "text": [
      "Bem Vindo Sr(a) Diego\n"
     ]
    }
   ],
   "source": [
    "saudacao_com_parametros(nome)"
   ]
  },
  {
   "cell_type": "markdown",
   "id": "7b8af352",
   "metadata": {},
   "source": [
    "### Condicional:"
   ]
  },
  {
   "cell_type": "code",
   "execution_count": 35,
   "id": "f6106c09",
   "metadata": {},
   "outputs": [
    {
     "name": "stdout",
     "output_type": "stream",
     "text": [
      "Tem permissão para dirigir!!\n"
     ]
    }
   ],
   "source": [
    "idade = 30\n",
    "def verifica_se_pode_dirigir(idade):\n",
    "    if idade >= 18:\n",
    "        print(f'Tem permissão para dirigir!!')\n",
    "    else:\n",
    "        print(f'NÂO tem permissão para dirigir!!')\n",
    "\n",
    "verifica_se_pode_dirigir(idade)"
   ]
  },
  {
   "cell_type": "code",
   "execution_count": 36,
   "id": "ee89a10a",
   "metadata": {},
   "outputs": [
    {
     "name": "stdout",
     "output_type": "stream",
     "text": [
      "Digite sua idade: 34\n",
      "Tem permissão para dirigir!!\n"
     ]
    }
   ],
   "source": [
    "def verifica_se_pode_dirigir_sem_parametro():\n",
    "    idade = int(input('Digite sua idade: '))\n",
    "    if idade >= 18:\n",
    "        print(f'Tem permissão para dirigir!!')\n",
    "    else:\n",
    "        print(f'NÂO tem permissão para dirigir!!')\n",
    "verifica_se_pode_dirigir_sem_parametro()"
   ]
  },
  {
   "cell_type": "markdown",
   "id": "95c99836",
   "metadata": {},
   "source": [
    "### Listas: "
   ]
  },
  {
   "cell_type": "code",
   "execution_count": 37,
   "id": "7795271b",
   "metadata": {},
   "outputs": [],
   "source": [
    "idades = [18, 22, 15, 50]\n",
    "#          0  1   2   3\n",
    "#          0 -3  -2  -1"
   ]
  },
  {
   "cell_type": "code",
   "execution_count": 38,
   "id": "cff81c49",
   "metadata": {},
   "outputs": [
    {
     "data": {
      "text/plain": [
       "22"
      ]
     },
     "execution_count": 38,
     "metadata": {},
     "output_type": "execute_result"
    }
   ],
   "source": [
    "# Pegar a idade da pisoção 1:\n",
    "idades[1]"
   ]
  },
  {
   "cell_type": "code",
   "execution_count": 39,
   "id": "477fa992",
   "metadata": {},
   "outputs": [
    {
     "data": {
      "text/plain": [
       "[18, 22, 15]"
      ]
     },
     "execution_count": 39,
     "metadata": {},
     "output_type": "execute_result"
    }
   ],
   "source": [
    "# Pegar as 3 primeiras idades:\n",
    "idades[0:3]"
   ]
  },
  {
   "cell_type": "code",
   "execution_count": 40,
   "id": "0fd79643",
   "metadata": {},
   "outputs": [
    {
     "data": {
      "text/plain": [
       "[22, 15, 50]"
      ]
     },
     "execution_count": 40,
     "metadata": {},
     "output_type": "execute_result"
    }
   ],
   "source": [
    "# Pegar a idade da posição 1 ate a ultima:\n",
    "idades[1:]"
   ]
  },
  {
   "cell_type": "code",
   "execution_count": 41,
   "id": "84e58311",
   "metadata": {},
   "outputs": [
    {
     "data": {
      "text/plain": [
       "50"
      ]
     },
     "execution_count": 41,
     "metadata": {},
     "output_type": "execute_result"
    }
   ],
   "source": [
    "# Pegar a ultima idade:\n",
    "idades[-1]"
   ]
  },
  {
   "cell_type": "code",
   "execution_count": 42,
   "id": "42000362",
   "metadata": {},
   "outputs": [
    {
     "data": {
      "text/plain": [
       "15"
      ]
     },
     "execution_count": 42,
     "metadata": {},
     "output_type": "execute_result"
    }
   ],
   "source": [
    "# Pegar a penultima idades:\n",
    "idades[-2]"
   ]
  },
  {
   "cell_type": "markdown",
   "id": "ac34e0f8",
   "metadata": {},
   "source": [
    "### Laços e Loops:"
   ]
  },
  {
   "cell_type": "code",
   "execution_count": 43,
   "id": "abc59113",
   "metadata": {},
   "outputs": [
    {
     "name": "stdout",
     "output_type": "stream",
     "text": [
      "18 anos de idade, TEM permissão para dirigir!\n",
      "22 anos de idade, TEM permissão para dirigir!\n",
      "15 anos de idade, NÂO tem permissão para dirigir!\n",
      "50 anos de idade, TEM permissão para dirigir!\n"
     ]
    }
   ],
   "source": [
    "# Nossa Lista de idades:\n",
    "idades\n",
    "\n",
    "# Função que verifica se a idade é maior ou menor que 18:\n",
    "def verifica_se_pode_dirigir(idade):\n",
    "    if idade >= 18:\n",
    "        print(f'{idade} anos de idade, TEM permissão para dirigir!')\n",
    "    else:\n",
    "        print(f'{idade} anos de idade, NÂO tem permissão para dirigir!')\n",
    "\n",
    "# For ou seja percorrer cada idade para verificar se é maior ou menor que 18:\n",
    "# OBS: esse for está fora da função.\n",
    "for idade in idades:\n",
    "    # Chamando a função:\n",
    "    verifica_se_pode_dirigir(idade)\n",
    "    \n",
    "def verifica_se_pode_dirigir(idades):\n",
    "    for idade in idades:\n",
    "        if idade >= 18:\n",
    "            print(f'{idade} anos de idade, TEM permissão para dirigir!')\n",
    "        else:\n",
    "            print(f'{idade} anos de idade, NÂO tem permissão para dirigir!')            "
   ]
  },
  {
   "cell_type": "code",
   "execution_count": 44,
   "id": "828e766a",
   "metadata": {},
   "outputs": [
    {
     "name": "stdout",
     "output_type": "stream",
     "text": [
      "18 anos de idade, TEM permissão para dirigir!\n",
      "22 anos de idade, TEM permissão para dirigir!\n",
      "15 anos de idade, NÂO tem permissão para dirigir!\n",
      "50 anos de idade, TEM permissão para dirigir!\n"
     ]
    }
   ],
   "source": [
    "# Chamando a função que recebe como parametro a lista idades:\n",
    "verifica_se_pode_dirigir(idades)"
   ]
  },
  {
   "cell_type": "markdown",
   "id": "0bcd82ed",
   "metadata": {},
   "source": [
    "### Booleano: True ou False"
   ]
  },
  {
   "cell_type": "code",
   "execution_count": 45,
   "id": "f596eeb0",
   "metadata": {},
   "outputs": [],
   "source": [
    "permissoes = []\n",
    "idades = [20, 14, 2, 40]\n",
    "\n",
    "def verifica_se_pode_dirigir(idades, permissoes):\n",
    "    for idade in idades:\n",
    "        if idade >= 18:\n",
    "            permissoes.append(True)\n",
    "        else:\n",
    "            permissoes.append(False)\n",
    "verifica_se_pode_dirigir(idades, permissoes)"
   ]
  },
  {
   "cell_type": "code",
   "execution_count": 46,
   "id": "157a554d",
   "metadata": {},
   "outputs": [
    {
     "data": {
      "text/plain": [
       "[True, False, False, True]"
      ]
     },
     "execution_count": 46,
     "metadata": {},
     "output_type": "execute_result"
    }
   ],
   "source": [
    "permissoes"
   ]
  },
  {
   "cell_type": "code",
   "execution_count": 47,
   "id": "789c0bb2",
   "metadata": {},
   "outputs": [
    {
     "name": "stdout",
     "output_type": "stream",
     "text": [
      "Permissao dirigir!\n",
      "Não tem permissão para dirigir!\n",
      "Não tem permissão para dirigir!\n",
      "Permissao dirigir!\n"
     ]
    }
   ],
   "source": [
    "for permissao in permissoes:\n",
    "    if permissao == True:\n",
    "        print('Permissao dirigir!')\n",
    "    else:\n",
    "        print('Não tem permissão para dirigir!')"
   ]
  },
  {
   "cell_type": "markdown",
   "id": "85417568",
   "metadata": {},
   "source": [
    "### Vários tipos em Lista:"
   ]
  },
  {
   "cell_type": "code",
   "execution_count": 48,
   "id": "20a68f12",
   "metadata": {},
   "outputs": [
    {
     "name": "stdout",
     "output_type": "stream",
     "text": [
      "O elemento Diego é do tipo:  <class 'str'>\n",
      "O elemento 34 é do tipo:  <class 'int'>\n",
      "O elemento True é do tipo:  <class 'bool'>\n",
      "O elemento 34 é do tipo:  <class 'str'>\n"
     ]
    }
   ],
   "source": [
    "lista = ['Diego', 34, True, '34']\n",
    "\n",
    "for elemento in lista:\n",
    "    print(f'O elemento {elemento} é do tipo: ', type(elemento))"
   ]
  },
  {
   "cell_type": "markdown",
   "id": "ac09910a",
   "metadata": {},
   "source": [
    "### Importando biblioteca:"
   ]
  },
  {
   "cell_type": "code",
   "execution_count": 76,
   "id": "02c4c9c8",
   "metadata": {},
   "outputs": [
    {
     "data": {
      "text/plain": [
       "[2, 1, 8, 10, 0, 9, 6, 7]"
      ]
     },
     "execution_count": 76,
     "metadata": {},
     "output_type": "execute_result"
    }
   ],
   "source": [
    "from random import randrange, seed\n",
    "\n",
    "# esse método seed mantém os números aleatorios gerados, os mesmo. Ou seja com ele toda vez que mandar gerar os numeros \n",
    "# aleatorios serão os mesmos.\n",
    "#seed(11) \n",
    "\n",
    "notas_matematica = []\n",
    "\n",
    "for nota in range(8):\n",
    "    notas_matematica.append(randrange(0, 11))\n",
    "\n",
    "notas_matematica"
   ]
  },
  {
   "cell_type": "markdown",
   "id": "b17a8234",
   "metadata": {},
   "source": [
    "### Matplotlib:"
   ]
  },
  {
   "cell_type": "code",
   "execution_count": 84,
   "id": "3ab141b7",
   "metadata": {},
   "outputs": [
    {
     "data": {
      "image/png": "[encoded data removed]",
      "text/plain": [
       "<Figure size 432x288 with 1 Axes>"
      ]
     },
     "metadata": {
      "needs_background": "light"
     },
     "output_type": "display_data"
    }
   ],
   "source": [
    "import matplotlib.pyplot as plt\n",
    "\n",
    "# Criando os dois eixos x e y:\n",
    "eixo_x = list(range(1, 9 ))\n",
    "eixo_y = notas_matematica\n",
    "\n",
    "# plotar o eixo x e y colocando um marcador em cada nota:\n",
    "plt.plot(eixo_x, eixo_y, marker='*')\n",
    "# Colocando titulo no gráfico:\n",
    "plt.title('Nota de Matématicas')\n",
    "# Colocando o nome do eixo x:\n",
    "plt.xlabel('Provas')\n",
    "# Colocando o nome do eixo y:\n",
    "plt.ylabel('Notas')\n",
    "# Mostrar o gráfico:\n",
    "plt.show()"
   ]
  },
  {
   "cell_type": "code",
   "execution_count": 115,
   "id": "17ac2680",
   "metadata": {},
   "outputs": [
    {
     "data": {
      "image/png": "[encoded data removed]",
      "text/plain": [
       "<Figure size 432x288 with 1 Axes>"
      ]
     },
     "metadata": {
      "needs_background": "light"
     },
     "output_type": "display_data"
    },
    {
     "data": {
      "image/png": "[encoded data removed]",
      "text/plain": [
       "<Figure size 432x288 with 1 Axes>"
      ]
     },
     "metadata": {
      "needs_background": "light"
     },
     "output_type": "display_data"
    },
    {
     "data": {
      "image/png": "[encoded data removed]",
      "text/plain": [
       "<Figure size 432x288 with 1 Axes>"
      ]
     },
     "metadata": {
      "needs_background": "light"
     },
     "output_type": "display_data"
    }
   ],
   "source": [
    "import matplotlib.pyplot as plt\n",
    "\n",
    "notas_matematica = ['Matemática',8,7,6,6,7,7,8,10]\n",
    "notas_portugues = ['Português',9,9,9,8,5,6,8,5]\n",
    "notas_geografia = ['Geografia',10,10,6,7,7,7,8,7]\n",
    "\n",
    "notas = [notas_matematica, notas_portugues, notas_geografia]\n",
    "cores = ['b', 'g', 'r']\n",
    "\n",
    "for indice, nota in enumerate(notas):\n",
    "    x = list(range(1, 9))\n",
    "    y = nota[1:]\n",
    "   \n",
    "    plt.plot(x, y, marker='*', color=cores[indice])\n",
    "    plt.xlabel('Provas')\n",
    "    plt.ylabel('Notas')\n",
    "    plt.title(notas[0][0])\n",
    "    plt.show()"
   ]
  }
 ],
 "metadata": {
  "kernelspec": {
   "display_name": "Python 3",
   "language": "python",
   "name": "python3"
  },
  "language_info": {
   "codemirror_mode": {
    "name": "ipython",
    "version": 3
   },
   "file_extension": ".py",
   "mimetype": "text/x-python",
   "name": "python",
   "nbconvert_exporter": "python",
   "pygments_lexer": "ipython3",
   "version": "3.8.8"
  }
 },
 "nbformat": 4,
 "nbformat_minor": 5
}
