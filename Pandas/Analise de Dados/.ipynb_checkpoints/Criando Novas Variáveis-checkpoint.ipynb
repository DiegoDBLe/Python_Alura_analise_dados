{
 "cells": [
  {
   "cell_type": "markdown",
   "id": "29f83705",
   "metadata": {},
   "source": [
    "# Relatório de Análise VI"
   ]
  },
  {
   "cell_type": "markdown",
   "id": "87e3239e",
   "metadata": {},
   "source": [
    "## Criando Novas Variáveis"
   ]
  },
  {
   "cell_type": "code",
   "execution_count": 1,
   "id": "5459bf69",
   "metadata": {},
   "outputs": [],
   "source": [
    "import pandas as pd"
   ]
  },
  {
   "cell_type": "code",
   "execution_count": null,
   "id": "f950e352",
   "metadata": {},
   "outputs": [],
   "source": []
  }
 ],
 "metadata": {
  "kernelspec": {
   "display_name": "Python 3",
   "language": "python",
   "name": "python3"
  },
  "language_info": {
   "codemirror_mode": {
    "name": "ipython",
    "version": 3
   },
   "file_extension": ".py",
   "mimetype": "text/x-python",
   "name": "python",
   "nbconvert_exporter": "python",
   "pygments_lexer": "ipython3",
   "version": "3.8.8"
  }
 },
 "nbformat": 4,
 "nbformat_minor": 5
}
