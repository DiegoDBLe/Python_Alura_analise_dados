{
 "cells": [
  {
   "cell_type": "code",
   "execution_count": 1,
   "id": "edf970df",
   "metadata": {},
   "outputs": [],
   "source": [
    "import pandas as pd"
   ]
  },
  {
   "cell_type": "markdown",
   "id": "dc284aef",
   "metadata": {},
   "source": [
    "### Criar uma Series: com letras aleatórias:"
   ]
  },
  {
   "cell_type": "code",
   "execution_count": 3,
   "id": "7496fd86",
   "metadata": {
    "scrolled": true
   },
   "outputs": [
    {
     "data": {
      "text/plain": [
       "0     a\n",
       "1     s\n",
       "2     a\n",
       "3     d\n",
       "4     a\n",
       "5     d\n",
       "6     a\n",
       "7     s\n",
       "8     m\n",
       "9     a\n",
       "10    d\n",
       "11    m\n",
       "12    n\n",
       "13    o\n",
       "14    a\n",
       "15    n\n",
       "16    d\n",
       "17    o\n",
       "dtype: object"
      ]
     },
     "execution_count": 3,
     "metadata": {},
     "output_type": "execute_result"
    }
   ],
   "source": [
    "s = pd.Series(list('asadadasmadmnoando'))\n",
    "s"
   ]
  },
  {
   "cell_type": "markdown",
   "id": "48518a5f",
   "metadata": {},
   "source": [
    "### Método unique() é a mesma coisa do método drop.duplicate(): Ele apaga os elementos repetidos"
   ]
  },
  {
   "cell_type": "code",
   "execution_count": 4,
   "id": "fb46c27e",
   "metadata": {},
   "outputs": [
    {
     "data": {
      "text/plain": [
       "array(['a', 's', 'd', 'm', 'n', 'o'], dtype=object)"
      ]
     },
     "execution_count": 4,
     "metadata": {},
     "output_type": "execute_result"
    }
   ],
   "source": [
    "s.unique()"
   ]
  },
  {
   "cell_type": "markdown",
   "id": "0b003611",
   "metadata": {},
   "source": [
    "### Método values_counts() -> mostra a frenquencia que cada elemento foi repetido. ou seja distrubição de frequencia:"
   ]
  },
  {
   "cell_type": "code",
   "execution_count": 5,
   "id": "27ded84a",
   "metadata": {
    "scrolled": false
   },
   "outputs": [
    {
     "data": {
      "text/plain": [
       "a    6\n",
       "d    4\n",
       "n    2\n",
       "m    2\n",
       "s    2\n",
       "o    2\n",
       "dtype: int64"
      ]
     },
     "execution_count": 5,
     "metadata": {},
     "output_type": "execute_result"
    }
   ],
   "source": [
    "s.value_counts()"
   ]
  },
  {
   "cell_type": "code",
   "execution_count": 10,
   "id": "e08e51f0",
   "metadata": {},
   "outputs": [],
   "source": [
    "dados = pd.read_csv('dados/aluguel.csv', sep = ';')"
   ]
  },
  {
   "cell_type": "markdown",
   "id": "331a587a",
   "metadata": {},
   "source": [
    "###  Usando o método unique() na coluna Tipo, para saber os tipos de imóveis."
   ]
  },
  {
   "cell_type": "code",
   "execution_count": 11,
   "id": "d649ca20",
   "metadata": {},
   "outputs": [
    {
     "data": {
      "text/plain": [
       "array(['Apartamento', 'Casa', 'Casa de Condomínio', 'Casa de Vila',\n",
       "       'Quitinete'], dtype=object)"
      ]
     },
     "execution_count": 11,
     "metadata": {},
     "output_type": "execute_result"
    }
   ],
   "source": [
    "dados.Tipo.unique()"
   ]
  },
  {
   "cell_type": "markdown",
   "id": "fe411293",
   "metadata": {},
   "source": [
    "### Usando o método .value_counts()  é uma funcionalidade aplicável somente a Series. na coluna Tipo para saber a Frequancia que cada um se repete, ou seja, quantidade de cada um. Distribuição de Frequencia"
   ]
  },
  {
   "cell_type": "code",
   "execution_count": 12,
   "id": "c1b326b9",
   "metadata": {
    "scrolled": false
   },
   "outputs": [
    {
     "data": {
      "text/plain": [
       "Apartamento           16923\n",
       "Casa de Condomínio      964\n",
       "Casa                    898\n",
       "Quitinete               813\n",
       "Casa de Vila            233\n",
       "Name: Tipo, dtype: int64"
      ]
     },
     "execution_count": 12,
     "metadata": {},
     "output_type": "execute_result"
    }
   ],
   "source": [
    "dados.Tipo.value_counts()"
   ]
  },
  {
   "cell_type": "markdown",
   "id": "89d233ea",
   "metadata": {},
   "source": [
    "# Exercício:"
   ]
  },
  {
   "cell_type": "markdown",
   "id": "231b8d6b",
   "metadata": {},
   "source": [
    "##### Suponha que estejamos testando as moedas que serão utilizadas por árbitros de futebol nas competições da Copa do Mundo. Atualmente, estas moedas são personalizadas e utilizadas em certos momentos dos jogos para decidir, na sorte, uma disputa. Nosso objetivo é verificar se as moedas que serão utilizadas nas competições não sejam viciadas.\n",
    "\n",
    "- Para isso testes foram realizados com cinco moedas e os resultados foram os seguintes:\n",
    "- Abaixo temos o resultado de 50 lançamentos de cada moeda (m1, m2, m3, m4 e m5), onde c representa a ocorrência do evento CARA e C representa a ocorrência do evento COROA. Onde Freq. C e Freq. c são, respectivamente, as frequências de COROAS e de CARAS em cada teste."
   ]
  },
  {
   "cell_type": "markdown",
   "id": "06215270",
   "metadata": {},
   "source": [
    "#### Abaixo temos o resultado de 50 lançamentos de cada moeda (m1, m2, m3, m4 e m5), onde c representa a ocorrência do evento CARA e C representa a ocorrência do evento COROA. Onde Freq. C e Freq. c são, respectivamente, as frequências de COROAS e de CARAS em cada teste."
   ]
  },
  {
   "cell_type": "code",
   "execution_count": 13,
   "id": "73065788",
   "metadata": {},
   "outputs": [],
   "source": [
    "m1 = 'CCcCCccCCCccCcCccCcCcCCCcCCcccCCcCcCcCcccCCcCcccCc'\n",
    "m2 = 'CCCCCccCccCcCCCCccCccccCccCccCCcCccCcCcCCcCccCccCc'\n",
    "m3 = 'CccCCccCcCCCCCCCCCCcccCccCCCCCCccCCCcccCCCcCCcccCC'\n",
    "m4 = 'cCCccCCccCCccCCccccCcCcCcCcCcCcCCCCccccCCCcCCcCCCC'\n",
    "m5 = 'CCCcCcCcCcCCCcCCcCcCCccCcCCcccCccCCcCcCcCcCcccccCc'"
   ]
  },
  {
   "cell_type": "code",
   "execution_count": 20,
   "id": "511b83df",
   "metadata": {},
   "outputs": [
    {
     "data": {
      "text/plain": [
       "50"
      ]
     },
     "execution_count": 20,
     "metadata": {},
     "output_type": "execute_result"
    }
   ],
   "source": [
    "len(m1)"
   ]
  },
  {
   "cell_type": "markdown",
   "id": "d9e51716",
   "metadata": {},
   "source": [
    "#### Utilizando list() para criar uma listagem de caracteres a partir de uma string."
   ]
  },
  {
   "cell_type": "code",
   "execution_count": 16,
   "id": "a6eebb0a",
   "metadata": {
    "collapsed": true
   },
   "outputs": [
    {
     "data": {
      "text/plain": [
       "{'m1': ['C',\n",
       "  'C',\n",
       "  'c',\n",
       "  'C',\n",
       "  'C',\n",
       "  'c',\n",
       "  'c',\n",
       "  'C',\n",
       "  'C',\n",
       "  'C',\n",
       "  'c',\n",
       "  'c',\n",
       "  'C',\n",
       "  'c',\n",
       "  'C',\n",
       "  'c',\n",
       "  'c',\n",
       "  'C',\n",
       "  'c',\n",
       "  'C',\n",
       "  'c',\n",
       "  'C',\n",
       "  'C',\n",
       "  'C',\n",
       "  'c',\n",
       "  'C',\n",
       "  'C',\n",
       "  'c',\n",
       "  'c',\n",
       "  'c',\n",
       "  'C',\n",
       "  'C',\n",
       "  'c',\n",
       "  'C',\n",
       "  'c',\n",
       "  'C',\n",
       "  'c',\n",
       "  'C',\n",
       "  'c',\n",
       "  'c',\n",
       "  'c',\n",
       "  'C',\n",
       "  'C',\n",
       "  'c',\n",
       "  'C',\n",
       "  'c',\n",
       "  'c',\n",
       "  'c',\n",
       "  'C',\n",
       "  'c'],\n",
       " 'm2': ['C',\n",
       "  'C',\n",
       "  'C',\n",
       "  'C',\n",
       "  'C',\n",
       "  'c',\n",
       "  'c',\n",
       "  'C',\n",
       "  'c',\n",
       "  'c',\n",
       "  'C',\n",
       "  'c',\n",
       "  'C',\n",
       "  'C',\n",
       "  'C',\n",
       "  'C',\n",
       "  'c',\n",
       "  'c',\n",
       "  'C',\n",
       "  'c',\n",
       "  'c',\n",
       "  'c',\n",
       "  'c',\n",
       "  'C',\n",
       "  'c',\n",
       "  'c',\n",
       "  'C',\n",
       "  'c',\n",
       "  'c',\n",
       "  'C',\n",
       "  'C',\n",
       "  'c',\n",
       "  'C',\n",
       "  'c',\n",
       "  'c',\n",
       "  'C',\n",
       "  'c',\n",
       "  'C',\n",
       "  'c',\n",
       "  'C',\n",
       "  'C',\n",
       "  'c',\n",
       "  'C',\n",
       "  'c',\n",
       "  'c',\n",
       "  'C',\n",
       "  'c',\n",
       "  'c',\n",
       "  'C',\n",
       "  'c'],\n",
       " 'm3': ['C',\n",
       "  'c',\n",
       "  'c',\n",
       "  'C',\n",
       "  'C',\n",
       "  'c',\n",
       "  'c',\n",
       "  'C',\n",
       "  'c',\n",
       "  'C',\n",
       "  'C',\n",
       "  'C',\n",
       "  'C',\n",
       "  'C',\n",
       "  'C',\n",
       "  'C',\n",
       "  'C',\n",
       "  'C',\n",
       "  'C',\n",
       "  'c',\n",
       "  'c',\n",
       "  'c',\n",
       "  'C',\n",
       "  'c',\n",
       "  'c',\n",
       "  'C',\n",
       "  'C',\n",
       "  'C',\n",
       "  'C',\n",
       "  'C',\n",
       "  'C',\n",
       "  'c',\n",
       "  'c',\n",
       "  'C',\n",
       "  'C',\n",
       "  'C',\n",
       "  'c',\n",
       "  'c',\n",
       "  'c',\n",
       "  'C',\n",
       "  'C',\n",
       "  'C',\n",
       "  'c',\n",
       "  'C',\n",
       "  'C',\n",
       "  'c',\n",
       "  'c',\n",
       "  'c',\n",
       "  'C',\n",
       "  'C'],\n",
       " 'm4': ['c',\n",
       "  'C',\n",
       "  'C',\n",
       "  'c',\n",
       "  'c',\n",
       "  'C',\n",
       "  'C',\n",
       "  'c',\n",
       "  'c',\n",
       "  'C',\n",
       "  'C',\n",
       "  'c',\n",
       "  'c',\n",
       "  'C',\n",
       "  'C',\n",
       "  'c',\n",
       "  'c',\n",
       "  'c',\n",
       "  'c',\n",
       "  'C',\n",
       "  'c',\n",
       "  'C',\n",
       "  'c',\n",
       "  'C',\n",
       "  'c',\n",
       "  'C',\n",
       "  'c',\n",
       "  'C',\n",
       "  'c',\n",
       "  'C',\n",
       "  'c',\n",
       "  'C',\n",
       "  'C',\n",
       "  'C',\n",
       "  'C',\n",
       "  'c',\n",
       "  'c',\n",
       "  'c',\n",
       "  'c',\n",
       "  'C',\n",
       "  'C',\n",
       "  'C',\n",
       "  'c',\n",
       "  'C',\n",
       "  'C',\n",
       "  'c',\n",
       "  'C',\n",
       "  'C',\n",
       "  'C',\n",
       "  'C'],\n",
       " 'm5': ['C',\n",
       "  'C',\n",
       "  'C',\n",
       "  'c',\n",
       "  'C',\n",
       "  'c',\n",
       "  'C',\n",
       "  'c',\n",
       "  'C',\n",
       "  'c',\n",
       "  'C',\n",
       "  'C',\n",
       "  'C',\n",
       "  'c',\n",
       "  'C',\n",
       "  'C',\n",
       "  'c',\n",
       "  'C',\n",
       "  'c',\n",
       "  'C',\n",
       "  'C',\n",
       "  'c',\n",
       "  'c',\n",
       "  'C',\n",
       "  'c',\n",
       "  'C',\n",
       "  'C',\n",
       "  'c',\n",
       "  'c',\n",
       "  'c',\n",
       "  'C',\n",
       "  'c',\n",
       "  'c',\n",
       "  'C',\n",
       "  'C',\n",
       "  'c',\n",
       "  'C',\n",
       "  'c',\n",
       "  'C',\n",
       "  'c',\n",
       "  'C',\n",
       "  'c',\n",
       "  'C',\n",
       "  'c',\n",
       "  'c',\n",
       "  'c',\n",
       "  'c',\n",
       "  'c',\n",
       "  'C',\n",
       "  'c']}"
      ]
     },
     "execution_count": 16,
     "metadata": {},
     "output_type": "execute_result"
    }
   ],
   "source": [
    "eventos = {'m1': list(m1), \n",
    "            'm2': list(m2), \n",
    "            'm3': list(m3), \n",
    "            'm4': list(m4), \n",
    "            'm5': list(m5)}\n",
    "eventos"
   ]
  },
  {
   "cell_type": "markdown",
   "id": "f326a34d",
   "metadata": {},
   "source": [
    "#### Passando a variavel eventos para um DataFrame"
   ]
  },
  {
   "cell_type": "code",
   "execution_count": 17,
   "id": "205774a0",
   "metadata": {
    "collapsed": true
   },
   "outputs": [
    {
     "data": {
      "text/html": [
       "<div>\n",
       "<style scoped>\n",
       "    .dataframe tbody tr th:only-of-type {\n",
       "        vertical-align: middle;\n",
       "    }\n",
       "\n",
       "    .dataframe tbody tr th {\n",
       "        vertical-align: top;\n",
       "    }\n",
       "\n",
       "    .dataframe thead th {\n",
       "        text-align: right;\n",
       "    }\n",
       "</style>\n",
       "<table border=\"1\" class=\"dataframe\">\n",
       "  <thead>\n",
       "    <tr style=\"text-align: right;\">\n",
       "      <th></th>\n",
       "      <th>m1</th>\n",
       "      <th>m2</th>\n",
       "      <th>m3</th>\n",
       "      <th>m4</th>\n",
       "      <th>m5</th>\n",
       "    </tr>\n",
       "  </thead>\n",
       "  <tbody>\n",
       "    <tr>\n",
       "      <th>0</th>\n",
       "      <td>C</td>\n",
       "      <td>C</td>\n",
       "      <td>C</td>\n",
       "      <td>c</td>\n",
       "      <td>C</td>\n",
       "    </tr>\n",
       "    <tr>\n",
       "      <th>1</th>\n",
       "      <td>C</td>\n",
       "      <td>C</td>\n",
       "      <td>c</td>\n",
       "      <td>C</td>\n",
       "      <td>C</td>\n",
       "    </tr>\n",
       "    <tr>\n",
       "      <th>2</th>\n",
       "      <td>c</td>\n",
       "      <td>C</td>\n",
       "      <td>c</td>\n",
       "      <td>C</td>\n",
       "      <td>C</td>\n",
       "    </tr>\n",
       "    <tr>\n",
       "      <th>3</th>\n",
       "      <td>C</td>\n",
       "      <td>C</td>\n",
       "      <td>C</td>\n",
       "      <td>c</td>\n",
       "      <td>c</td>\n",
       "    </tr>\n",
       "    <tr>\n",
       "      <th>4</th>\n",
       "      <td>C</td>\n",
       "      <td>C</td>\n",
       "      <td>C</td>\n",
       "      <td>c</td>\n",
       "      <td>C</td>\n",
       "    </tr>\n",
       "    <tr>\n",
       "      <th>5</th>\n",
       "      <td>c</td>\n",
       "      <td>c</td>\n",
       "      <td>c</td>\n",
       "      <td>C</td>\n",
       "      <td>c</td>\n",
       "    </tr>\n",
       "    <tr>\n",
       "      <th>6</th>\n",
       "      <td>c</td>\n",
       "      <td>c</td>\n",
       "      <td>c</td>\n",
       "      <td>C</td>\n",
       "      <td>C</td>\n",
       "    </tr>\n",
       "    <tr>\n",
       "      <th>7</th>\n",
       "      <td>C</td>\n",
       "      <td>C</td>\n",
       "      <td>C</td>\n",
       "      <td>c</td>\n",
       "      <td>c</td>\n",
       "    </tr>\n",
       "    <tr>\n",
       "      <th>8</th>\n",
       "      <td>C</td>\n",
       "      <td>c</td>\n",
       "      <td>c</td>\n",
       "      <td>c</td>\n",
       "      <td>C</td>\n",
       "    </tr>\n",
       "    <tr>\n",
       "      <th>9</th>\n",
       "      <td>C</td>\n",
       "      <td>c</td>\n",
       "      <td>C</td>\n",
       "      <td>C</td>\n",
       "      <td>c</td>\n",
       "    </tr>\n",
       "    <tr>\n",
       "      <th>10</th>\n",
       "      <td>c</td>\n",
       "      <td>C</td>\n",
       "      <td>C</td>\n",
       "      <td>C</td>\n",
       "      <td>C</td>\n",
       "    </tr>\n",
       "    <tr>\n",
       "      <th>11</th>\n",
       "      <td>c</td>\n",
       "      <td>c</td>\n",
       "      <td>C</td>\n",
       "      <td>c</td>\n",
       "      <td>C</td>\n",
       "    </tr>\n",
       "    <tr>\n",
       "      <th>12</th>\n",
       "      <td>C</td>\n",
       "      <td>C</td>\n",
       "      <td>C</td>\n",
       "      <td>c</td>\n",
       "      <td>C</td>\n",
       "    </tr>\n",
       "    <tr>\n",
       "      <th>13</th>\n",
       "      <td>c</td>\n",
       "      <td>C</td>\n",
       "      <td>C</td>\n",
       "      <td>C</td>\n",
       "      <td>c</td>\n",
       "    </tr>\n",
       "    <tr>\n",
       "      <th>14</th>\n",
       "      <td>C</td>\n",
       "      <td>C</td>\n",
       "      <td>C</td>\n",
       "      <td>C</td>\n",
       "      <td>C</td>\n",
       "    </tr>\n",
       "    <tr>\n",
       "      <th>15</th>\n",
       "      <td>c</td>\n",
       "      <td>C</td>\n",
       "      <td>C</td>\n",
       "      <td>c</td>\n",
       "      <td>C</td>\n",
       "    </tr>\n",
       "    <tr>\n",
       "      <th>16</th>\n",
       "      <td>c</td>\n",
       "      <td>c</td>\n",
       "      <td>C</td>\n",
       "      <td>c</td>\n",
       "      <td>c</td>\n",
       "    </tr>\n",
       "    <tr>\n",
       "      <th>17</th>\n",
       "      <td>C</td>\n",
       "      <td>c</td>\n",
       "      <td>C</td>\n",
       "      <td>c</td>\n",
       "      <td>C</td>\n",
       "    </tr>\n",
       "    <tr>\n",
       "      <th>18</th>\n",
       "      <td>c</td>\n",
       "      <td>C</td>\n",
       "      <td>C</td>\n",
       "      <td>c</td>\n",
       "      <td>c</td>\n",
       "    </tr>\n",
       "    <tr>\n",
       "      <th>19</th>\n",
       "      <td>C</td>\n",
       "      <td>c</td>\n",
       "      <td>c</td>\n",
       "      <td>C</td>\n",
       "      <td>C</td>\n",
       "    </tr>\n",
       "    <tr>\n",
       "      <th>20</th>\n",
       "      <td>c</td>\n",
       "      <td>c</td>\n",
       "      <td>c</td>\n",
       "      <td>c</td>\n",
       "      <td>C</td>\n",
       "    </tr>\n",
       "    <tr>\n",
       "      <th>21</th>\n",
       "      <td>C</td>\n",
       "      <td>c</td>\n",
       "      <td>c</td>\n",
       "      <td>C</td>\n",
       "      <td>c</td>\n",
       "    </tr>\n",
       "    <tr>\n",
       "      <th>22</th>\n",
       "      <td>C</td>\n",
       "      <td>c</td>\n",
       "      <td>C</td>\n",
       "      <td>c</td>\n",
       "      <td>c</td>\n",
       "    </tr>\n",
       "    <tr>\n",
       "      <th>23</th>\n",
       "      <td>C</td>\n",
       "      <td>C</td>\n",
       "      <td>c</td>\n",
       "      <td>C</td>\n",
       "      <td>C</td>\n",
       "    </tr>\n",
       "    <tr>\n",
       "      <th>24</th>\n",
       "      <td>c</td>\n",
       "      <td>c</td>\n",
       "      <td>c</td>\n",
       "      <td>c</td>\n",
       "      <td>c</td>\n",
       "    </tr>\n",
       "    <tr>\n",
       "      <th>25</th>\n",
       "      <td>C</td>\n",
       "      <td>c</td>\n",
       "      <td>C</td>\n",
       "      <td>C</td>\n",
       "      <td>C</td>\n",
       "    </tr>\n",
       "    <tr>\n",
       "      <th>26</th>\n",
       "      <td>C</td>\n",
       "      <td>C</td>\n",
       "      <td>C</td>\n",
       "      <td>c</td>\n",
       "      <td>C</td>\n",
       "    </tr>\n",
       "    <tr>\n",
       "      <th>27</th>\n",
       "      <td>c</td>\n",
       "      <td>c</td>\n",
       "      <td>C</td>\n",
       "      <td>C</td>\n",
       "      <td>c</td>\n",
       "    </tr>\n",
       "    <tr>\n",
       "      <th>28</th>\n",
       "      <td>c</td>\n",
       "      <td>c</td>\n",
       "      <td>C</td>\n",
       "      <td>c</td>\n",
       "      <td>c</td>\n",
       "    </tr>\n",
       "    <tr>\n",
       "      <th>29</th>\n",
       "      <td>c</td>\n",
       "      <td>C</td>\n",
       "      <td>C</td>\n",
       "      <td>C</td>\n",
       "      <td>c</td>\n",
       "    </tr>\n",
       "    <tr>\n",
       "      <th>30</th>\n",
       "      <td>C</td>\n",
       "      <td>C</td>\n",
       "      <td>C</td>\n",
       "      <td>c</td>\n",
       "      <td>C</td>\n",
       "    </tr>\n",
       "    <tr>\n",
       "      <th>31</th>\n",
       "      <td>C</td>\n",
       "      <td>c</td>\n",
       "      <td>c</td>\n",
       "      <td>C</td>\n",
       "      <td>c</td>\n",
       "    </tr>\n",
       "    <tr>\n",
       "      <th>32</th>\n",
       "      <td>c</td>\n",
       "      <td>C</td>\n",
       "      <td>c</td>\n",
       "      <td>C</td>\n",
       "      <td>c</td>\n",
       "    </tr>\n",
       "    <tr>\n",
       "      <th>33</th>\n",
       "      <td>C</td>\n",
       "      <td>c</td>\n",
       "      <td>C</td>\n",
       "      <td>C</td>\n",
       "      <td>C</td>\n",
       "    </tr>\n",
       "    <tr>\n",
       "      <th>34</th>\n",
       "      <td>c</td>\n",
       "      <td>c</td>\n",
       "      <td>C</td>\n",
       "      <td>C</td>\n",
       "      <td>C</td>\n",
       "    </tr>\n",
       "    <tr>\n",
       "      <th>35</th>\n",
       "      <td>C</td>\n",
       "      <td>C</td>\n",
       "      <td>C</td>\n",
       "      <td>c</td>\n",
       "      <td>c</td>\n",
       "    </tr>\n",
       "    <tr>\n",
       "      <th>36</th>\n",
       "      <td>c</td>\n",
       "      <td>c</td>\n",
       "      <td>c</td>\n",
       "      <td>c</td>\n",
       "      <td>C</td>\n",
       "    </tr>\n",
       "    <tr>\n",
       "      <th>37</th>\n",
       "      <td>C</td>\n",
       "      <td>C</td>\n",
       "      <td>c</td>\n",
       "      <td>c</td>\n",
       "      <td>c</td>\n",
       "    </tr>\n",
       "    <tr>\n",
       "      <th>38</th>\n",
       "      <td>c</td>\n",
       "      <td>c</td>\n",
       "      <td>c</td>\n",
       "      <td>c</td>\n",
       "      <td>C</td>\n",
       "    </tr>\n",
       "    <tr>\n",
       "      <th>39</th>\n",
       "      <td>c</td>\n",
       "      <td>C</td>\n",
       "      <td>C</td>\n",
       "      <td>C</td>\n",
       "      <td>c</td>\n",
       "    </tr>\n",
       "    <tr>\n",
       "      <th>40</th>\n",
       "      <td>c</td>\n",
       "      <td>C</td>\n",
       "      <td>C</td>\n",
       "      <td>C</td>\n",
       "      <td>C</td>\n",
       "    </tr>\n",
       "    <tr>\n",
       "      <th>41</th>\n",
       "      <td>C</td>\n",
       "      <td>c</td>\n",
       "      <td>C</td>\n",
       "      <td>C</td>\n",
       "      <td>c</td>\n",
       "    </tr>\n",
       "    <tr>\n",
       "      <th>42</th>\n",
       "      <td>C</td>\n",
       "      <td>C</td>\n",
       "      <td>c</td>\n",
       "      <td>c</td>\n",
       "      <td>C</td>\n",
       "    </tr>\n",
       "    <tr>\n",
       "      <th>43</th>\n",
       "      <td>c</td>\n",
       "      <td>c</td>\n",
       "      <td>C</td>\n",
       "      <td>C</td>\n",
       "      <td>c</td>\n",
       "    </tr>\n",
       "    <tr>\n",
       "      <th>44</th>\n",
       "      <td>C</td>\n",
       "      <td>c</td>\n",
       "      <td>C</td>\n",
       "      <td>C</td>\n",
       "      <td>c</td>\n",
       "    </tr>\n",
       "    <tr>\n",
       "      <th>45</th>\n",
       "      <td>c</td>\n",
       "      <td>C</td>\n",
       "      <td>c</td>\n",
       "      <td>c</td>\n",
       "      <td>c</td>\n",
       "    </tr>\n",
       "    <tr>\n",
       "      <th>46</th>\n",
       "      <td>c</td>\n",
       "      <td>c</td>\n",
       "      <td>c</td>\n",
       "      <td>C</td>\n",
       "      <td>c</td>\n",
       "    </tr>\n",
       "    <tr>\n",
       "      <th>47</th>\n",
       "      <td>c</td>\n",
       "      <td>c</td>\n",
       "      <td>c</td>\n",
       "      <td>C</td>\n",
       "      <td>c</td>\n",
       "    </tr>\n",
       "    <tr>\n",
       "      <th>48</th>\n",
       "      <td>C</td>\n",
       "      <td>C</td>\n",
       "      <td>C</td>\n",
       "      <td>C</td>\n",
       "      <td>C</td>\n",
       "    </tr>\n",
       "    <tr>\n",
       "      <th>49</th>\n",
       "      <td>c</td>\n",
       "      <td>c</td>\n",
       "      <td>C</td>\n",
       "      <td>C</td>\n",
       "      <td>c</td>\n",
       "    </tr>\n",
       "  </tbody>\n",
       "</table>\n",
       "</div>"
      ],
      "text/plain": [
       "   m1 m2 m3 m4 m5\n",
       "0   C  C  C  c  C\n",
       "1   C  C  c  C  C\n",
       "2   c  C  c  C  C\n",
       "3   C  C  C  c  c\n",
       "4   C  C  C  c  C\n",
       "5   c  c  c  C  c\n",
       "6   c  c  c  C  C\n",
       "7   C  C  C  c  c\n",
       "8   C  c  c  c  C\n",
       "9   C  c  C  C  c\n",
       "10  c  C  C  C  C\n",
       "11  c  c  C  c  C\n",
       "12  C  C  C  c  C\n",
       "13  c  C  C  C  c\n",
       "14  C  C  C  C  C\n",
       "15  c  C  C  c  C\n",
       "16  c  c  C  c  c\n",
       "17  C  c  C  c  C\n",
       "18  c  C  C  c  c\n",
       "19  C  c  c  C  C\n",
       "20  c  c  c  c  C\n",
       "21  C  c  c  C  c\n",
       "22  C  c  C  c  c\n",
       "23  C  C  c  C  C\n",
       "24  c  c  c  c  c\n",
       "25  C  c  C  C  C\n",
       "26  C  C  C  c  C\n",
       "27  c  c  C  C  c\n",
       "28  c  c  C  c  c\n",
       "29  c  C  C  C  c\n",
       "30  C  C  C  c  C\n",
       "31  C  c  c  C  c\n",
       "32  c  C  c  C  c\n",
       "33  C  c  C  C  C\n",
       "34  c  c  C  C  C\n",
       "35  C  C  C  c  c\n",
       "36  c  c  c  c  C\n",
       "37  C  C  c  c  c\n",
       "38  c  c  c  c  C\n",
       "39  c  C  C  C  c\n",
       "40  c  C  C  C  C\n",
       "41  C  c  C  C  c\n",
       "42  C  C  c  c  C\n",
       "43  c  c  C  C  c\n",
       "44  C  c  C  C  c\n",
       "45  c  C  c  c  c\n",
       "46  c  c  c  C  c\n",
       "47  c  c  c  C  c\n",
       "48  C  C  C  C  C\n",
       "49  c  c  C  C  c"
      ]
     },
     "execution_count": 17,
     "metadata": {},
     "output_type": "execute_result"
    }
   ],
   "source": [
    "moedas = pd.DataFrame(eventos)\n",
    "moedas"
   ]
  },
  {
   "cell_type": "code",
   "execution_count": 28,
   "id": "14826100",
   "metadata": {
    "scrolled": true
   },
   "outputs": [
    {
     "data": {
      "text/plain": [
       "c    25\n",
       "C    25\n",
       "Name: m1, dtype: int64"
      ]
     },
     "execution_count": 28,
     "metadata": {},
     "output_type": "execute_result"
    }
   ],
   "source": [
    "moedas.m1.value_counts()"
   ]
  },
  {
   "cell_type": "code",
   "execution_count": 29,
   "id": "3f237191",
   "metadata": {
    "scrolled": true
   },
   "outputs": [
    {
     "data": {
      "text/plain": [
       "c    26\n",
       "C    24\n",
       "Name: m2, dtype: int64"
      ]
     },
     "execution_count": 29,
     "metadata": {},
     "output_type": "execute_result"
    }
   ],
   "source": [
    "moedas.m2.value_counts()"
   ]
  },
  {
   "cell_type": "code",
   "execution_count": 30,
   "id": "d79cc4e8",
   "metadata": {
    "scrolled": true
   },
   "outputs": [
    {
     "data": {
      "text/plain": [
       "C    31\n",
       "c    19\n",
       "Name: m3, dtype: int64"
      ]
     },
     "execution_count": 30,
     "metadata": {},
     "output_type": "execute_result"
    }
   ],
   "source": [
    "moedas.m3.value_counts()"
   ]
  },
  {
   "cell_type": "code",
   "execution_count": 31,
   "id": "92e1055a",
   "metadata": {
    "scrolled": true
   },
   "outputs": [
    {
     "data": {
      "text/plain": [
       "C    27\n",
       "c    23\n",
       "Name: m4, dtype: int64"
      ]
     },
     "execution_count": 31,
     "metadata": {},
     "output_type": "execute_result"
    }
   ],
   "source": [
    "moedas.m4.value_counts()"
   ]
  },
  {
   "cell_type": "code",
   "execution_count": 32,
   "id": "80a9e86f",
   "metadata": {},
   "outputs": [
    {
     "data": {
      "text/plain": [
       "c    25\n",
       "C    25\n",
       "Name: m5, dtype: int64"
      ]
     },
     "execution_count": 32,
     "metadata": {},
     "output_type": "execute_result"
    }
   ],
   "source": [
    "moedas.m5.value_counts()"
   ]
  },
  {
   "cell_type": "markdown",
   "id": "2aa667ff",
   "metadata": {},
   "source": [
    "#### Crinado  um rotulo (coluna) Faces,  index: c e C e duas linhas\tCara e Coroa"
   ]
  },
  {
   "cell_type": "code",
   "execution_count": 18,
   "id": "04bfc72d",
   "metadata": {
    "scrolled": true
   },
   "outputs": [
    {
     "data": {
      "text/html": [
       "<div>\n",
       "<style scoped>\n",
       "    .dataframe tbody tr th:only-of-type {\n",
       "        vertical-align: middle;\n",
       "    }\n",
       "\n",
       "    .dataframe tbody tr th {\n",
       "        vertical-align: top;\n",
       "    }\n",
       "\n",
       "    .dataframe thead th {\n",
       "        text-align: right;\n",
       "    }\n",
       "</style>\n",
       "<table border=\"1\" class=\"dataframe\">\n",
       "  <thead>\n",
       "    <tr style=\"text-align: right;\">\n",
       "      <th></th>\n",
       "      <th>Faces</th>\n",
       "    </tr>\n",
       "  </thead>\n",
       "  <tbody>\n",
       "    <tr>\n",
       "      <th>c</th>\n",
       "      <td>Cara</td>\n",
       "    </tr>\n",
       "    <tr>\n",
       "      <th>C</th>\n",
       "      <td>Coroa</td>\n",
       "    </tr>\n",
       "  </tbody>\n",
       "</table>\n",
       "</div>"
      ],
      "text/plain": [
       "   Faces\n",
       "c   Cara\n",
       "C  Coroa"
      ]
     },
     "execution_count": 18,
     "metadata": {},
     "output_type": "execute_result"
    }
   ],
   "source": [
    "df = pd.DataFrame(data = ['Cara', 'Coroa'], \n",
    "                    index = ['c', 'C'], \n",
    "                    columns = ['Faces'])\n",
    "df"
   ]
  },
  {
   "cell_type": "markdown",
   "id": "70a392f8",
   "metadata": {},
   "source": [
    "#### Percorrendo cada item do DataFrame moedas e concatenando minha coluna Faces, linha Cara e Cora, indx c e C com o DataFrame moedas onde será contado quantas vezes se repete c e C em cada coluna."
   ]
  },
  {
   "cell_type": "code",
   "execution_count": 19,
   "id": "fd61c350",
   "metadata": {
    "scrolled": true
   },
   "outputs": [
    {
     "data": {
      "text/html": [
       "<div>\n",
       "<style scoped>\n",
       "    .dataframe tbody tr th:only-of-type {\n",
       "        vertical-align: middle;\n",
       "    }\n",
       "\n",
       "    .dataframe tbody tr th {\n",
       "        vertical-align: top;\n",
       "    }\n",
       "\n",
       "    .dataframe thead th {\n",
       "        text-align: right;\n",
       "    }\n",
       "</style>\n",
       "<table border=\"1\" class=\"dataframe\">\n",
       "  <thead>\n",
       "    <tr style=\"text-align: right;\">\n",
       "      <th></th>\n",
       "      <th>Faces</th>\n",
       "      <th>m1</th>\n",
       "      <th>m2</th>\n",
       "      <th>m3</th>\n",
       "      <th>m4</th>\n",
       "      <th>m5</th>\n",
       "    </tr>\n",
       "  </thead>\n",
       "  <tbody>\n",
       "    <tr>\n",
       "      <th>c</th>\n",
       "      <td>Cara</td>\n",
       "      <td>25</td>\n",
       "      <td>26</td>\n",
       "      <td>19</td>\n",
       "      <td>23</td>\n",
       "      <td>25</td>\n",
       "    </tr>\n",
       "    <tr>\n",
       "      <th>C</th>\n",
       "      <td>Coroa</td>\n",
       "      <td>25</td>\n",
       "      <td>24</td>\n",
       "      <td>31</td>\n",
       "      <td>27</td>\n",
       "      <td>25</td>\n",
       "    </tr>\n",
       "  </tbody>\n",
       "</table>\n",
       "</div>"
      ],
      "text/plain": [
       "   Faces  m1  m2  m3  m4  m5\n",
       "c   Cara  25  26  19  23  25\n",
       "C  Coroa  25  24  31  27  25"
      ]
     },
     "execution_count": 19,
     "metadata": {},
     "output_type": "execute_result"
    }
   ],
   "source": [
    "for item in moedas:\n",
    "    df = pd.concat([df, moedas[item].value_counts()], \n",
    "                    axis = 1)\n",
    "df"
   ]
  },
  {
   "cell_type": "markdown",
   "id": "67c47e4e",
   "metadata": {},
   "source": [
    "#### OU Criando tudo em um dicionário direto no DataFrame:\n",
    "- Na minha opnião melhor forma de fazer."
   ]
  },
  {
   "cell_type": "code",
   "execution_count": 33,
   "id": "7b620c18",
   "metadata": {},
   "outputs": [
    {
     "data": {
      "text/html": [
       "<div>\n",
       "<style scoped>\n",
       "    .dataframe tbody tr th:only-of-type {\n",
       "        vertical-align: middle;\n",
       "    }\n",
       "\n",
       "    .dataframe tbody tr th {\n",
       "        vertical-align: top;\n",
       "    }\n",
       "\n",
       "    .dataframe thead th {\n",
       "        text-align: right;\n",
       "    }\n",
       "</style>\n",
       "<table border=\"1\" class=\"dataframe\">\n",
       "  <thead>\n",
       "    <tr style=\"text-align: right;\">\n",
       "      <th></th>\n",
       "      <th>Faces</th>\n",
       "      <th>m1</th>\n",
       "      <th>m2</th>\n",
       "      <th>m3</th>\n",
       "      <th>m4</th>\n",
       "      <th>m5</th>\n",
       "    </tr>\n",
       "  </thead>\n",
       "  <tbody>\n",
       "    <tr>\n",
       "      <th>C</th>\n",
       "      <td>Coroa</td>\n",
       "      <td>25</td>\n",
       "      <td>24</td>\n",
       "      <td>31</td>\n",
       "      <td>27</td>\n",
       "      <td>25</td>\n",
       "    </tr>\n",
       "    <tr>\n",
       "      <th>c</th>\n",
       "      <td>Cara</td>\n",
       "      <td>25</td>\n",
       "      <td>26</td>\n",
       "      <td>19</td>\n",
       "      <td>23</td>\n",
       "      <td>25</td>\n",
       "    </tr>\n",
       "  </tbody>\n",
       "</table>\n",
       "</div>"
      ],
      "text/plain": [
       "   Faces  m1  m2  m3  m4  m5\n",
       "C  Coroa  25  24  31  27  25\n",
       "c   Cara  25  26  19  23  25"
      ]
     },
     "execution_count": 33,
     "metadata": {},
     "output_type": "execute_result"
    }
   ],
   "source": [
    "df = pd.DataFrame({'Faces' : ['Coroa', 'Cara'],\n",
    "                   'm1' : pd.Series(list(m1)).value_counts(),\n",
    "                  'm2' : pd.Series(list(m2)).value_counts(),\n",
    "                  'm3' : pd.Series(list(m3)).value_counts(),\n",
    "                  'm4' : pd.Series(list(m4)).value_counts(),\n",
    "                  'm5' : pd.Series(list(m5)).value_counts(),})\n",
    "df"
   ]
  }
 ],
 "metadata": {
  "kernelspec": {
   "display_name": "Python 3",
   "language": "python",
   "name": "python3"
  },
  "language_info": {
   "codemirror_mode": {
    "name": "ipython",
    "version": 3
   },
   "file_extension": ".py",
   "mimetype": "text/x-python",
   "name": "python",
   "nbconvert_exporter": "python",
   "pygments_lexer": "ipython3",
   "version": "3.8.8"
  }
 },
 "nbformat": 4,
 "nbformat_minor": 5
}
